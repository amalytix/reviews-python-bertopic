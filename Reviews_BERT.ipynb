{
 "cells": [
  {
   "cell_type": "code",
   "execution_count": null,
   "id": "479533b4-6b84-450e-abab-52018f568024",
   "metadata": {
    "tags": []
   },
   "outputs": [],
   "source": [
    "# Run \"jupyter labextension install jupyterlab-plotly\" in console if charts do not show up\n",
    "\n",
    "# Install\n",
    "!pip install bertopic\n",
    "!pip install nltk\n",
    "\n",
    "# !pip install flair"
   ]
  },
  {
   "cell_type": "code",
   "execution_count": null,
   "id": "a0aa445f-81b6-47e3-8f00-7a44f5420ee8",
   "metadata": {},
   "outputs": [],
   "source": [
    "# Import\n",
    "import pandas as pd \n",
    "import numpy as np\n",
    "from bertopic import BERTopic # https://github.com/MaartenGr/BERTopic\n",
    "# import flair # https://github.com/flairNLP/flair"
   ]
  },
  {
   "cell_type": "code",
   "execution_count": null,
   "id": "2060d8b2-aabe-42b4-a98f-ec2ac4b97d56",
   "metadata": {},
   "outputs": [],
   "source": [
    "import nltk \n",
    "nltk.download('punkt')\n",
    "nltk.download('stopwords')\n",
    "from nltk.corpus import stopwords\n",
    "from nltk.tokenize import word_tokenize\n",
    "stopwords=set(stopwords.words('german'))"
   ]
  },
  {
   "cell_type": "code",
   "execution_count": null,
   "id": "ab3deb87-2cc6-4203-b9c0-342f87191a2c",
   "metadata": {},
   "outputs": [],
   "source": [
    "# Load bert-base-german-cased model\n",
    "# https://huggingface.co/bert-base-german-cased\n",
    "\n",
    "# from flair.embeddings import TransformerDocumentEmbeddings\n",
    "# bertGerman = TransformerDocumentEmbeddings('bert-base-german-cased')"
   ]
  },
  {
   "cell_type": "code",
   "execution_count": null,
   "id": "7c3c7ba9-f1d0-47a7-9818-7cfa935075a1",
   "metadata": {},
   "outputs": [],
   "source": [
    "# Remove stopwords from an array of strings\n",
    "def remove_stopwords(data):\n",
    "    output_array=[]\n",
    "    for sentence in data:\n",
    "        temp_list=[]\n",
    "        for word in str(sentence).split():\n",
    "            if word.lower() not in stopwords:\n",
    "                temp_list.append(word)\n",
    "        output_array.append(' '.join(temp_list))\n",
    "    return output_array"
   ]
  },
  {
   "cell_type": "code",
   "execution_count": null,
   "id": "4024219f-c471-451b-a965-c9677bfb29ad",
   "metadata": {},
   "outputs": [],
   "source": [
    "# Load reviews data\n",
    "df = pd.read_csv(\"./reviews-B003CMKQTS-de.csv\", engine='python')"
   ]
  },
  {
   "cell_type": "code",
   "execution_count": null,
   "id": "78ee2a76-6e0d-4ebb-a0fc-7c350465ee60",
   "metadata": {},
   "outputs": [],
   "source": [
    "df"
   ]
  },
  {
   "cell_type": "code",
   "execution_count": null,
   "id": "7b36f2b5-02a6-4620-8e37-91b13e0e9afc",
   "metadata": {},
   "outputs": [],
   "source": [
    "# Only get critical reviews (1-3 stars)\n",
    "dfNegative = df[df.rating < 4]\n",
    "# Only get critical reviews (1-3 stars)\n",
    "dfPositive = df[df.rating >= 4]"
   ]
  },
  {
   "cell_type": "code",
   "execution_count": null,
   "id": "9c3cb8e6-5feb-40bd-90cb-efdf03db3dd8",
   "metadata": {},
   "outputs": [],
   "source": [
    "# Convert df column \"text\" to list \n",
    "reviewsNegativeText = dfNegative.text.to_list()\n",
    "reviewsPositiveText = dfPositive.text.to_list()"
   ]
  },
  {
   "cell_type": "code",
   "execution_count": null,
   "id": "3d4e830d-1395-4760-833f-8ad74532926b",
   "metadata": {},
   "outputs": [],
   "source": [
    "# Remove stopwords\n",
    "reviewsNegativeText = remove_stopwords(reviewsNegativeText)\n",
    "reviewsPositiveText = remove_stopwords(reviewsPositiveText)"
   ]
  },
  {
   "cell_type": "markdown",
   "id": "6d9a6f6c-5b49-4d1b-8dcf-7b364a4ea052",
   "metadata": {},
   "source": [
    "## Negative Rezensionen"
   ]
  },
  {
   "cell_type": "code",
   "execution_count": null,
   "id": "a0919376-cb56-420f-874c-af6b38e134d6",
   "metadata": {},
   "outputs": [],
   "source": [
    "# Create model based on German BERT\n",
    "# model = BERTopic(embedding_model=bertGerman, language=\"german\")\n",
    "modelNegative = BERTopic(language=\"german\", nr_topics=\"auto\")"
   ]
  },
  {
   "cell_type": "code",
   "execution_count": null,
   "id": "288a45ae-2d14-4f8c-ac5a-2674039ddacb",
   "metadata": {},
   "outputs": [],
   "source": [
    "# Fit model\n",
    "topics, probabilities = modelNegative.fit_transform(reviewsNegativeText)"
   ]
  },
  {
   "cell_type": "code",
   "execution_count": null,
   "id": "cea9daa7-b888-4028-965a-564b66d7027a",
   "metadata": {},
   "outputs": [],
   "source": [
    "modelNegative.update_topics(reviewsNegativeText, topics, n_gram_range=(1, 2))"
   ]
  },
  {
   "cell_type": "code",
   "execution_count": null,
   "id": "25efb5bd-fca6-48f1-b07d-b4a977eefd25",
   "metadata": {},
   "outputs": [],
   "source": [
    "# Get top 10 topics\n",
    "modelNegative.get_topic_freq().head(11)"
   ]
  },
  {
   "cell_type": "code",
   "execution_count": null,
   "id": "fa635486-831c-4b2c-a5b8-f49a32da89ca",
   "metadata": {},
   "outputs": [],
   "source": [
    "modelNegative.get_topic(0)"
   ]
  },
  {
   "cell_type": "code",
   "execution_count": null,
   "id": "da47726e-4b62-4108-8dbd-53e4963b3b87",
   "metadata": {},
   "outputs": [],
   "source": [
    "modelNegative.get_topic(1)"
   ]
  },
  {
   "cell_type": "code",
   "execution_count": null,
   "id": "7484a70a-8fc0-4648-b1fa-6e99b65eb303",
   "metadata": {},
   "outputs": [],
   "source": [
    "modelNegative.get_topic(3)"
   ]
  },
  {
   "cell_type": "code",
   "execution_count": null,
   "id": "854a95ef-391a-412e-a306-d94872536177",
   "metadata": {},
   "outputs": [],
   "source": [
    "for x in range(0, 3):\n",
    "    first_tuple_elements = []\n",
    "    for tuple in modelNegative.get_topic(x):\n",
    "        first_tuple_elements.append(tuple[0])\n",
    "    print(first_tuple_elements)\n",
    "    print(\"\\n\")"
   ]
  },
  {
   "cell_type": "code",
   "execution_count": null,
   "id": "373093dd-fb2a-4718-962c-8eb9765eb536",
   "metadata": {},
   "outputs": [],
   "source": [
    "for x in range(1, 10):\n",
    "    print(str(modelNegative.get_topic(x)) + \"\\n\")"
   ]
  },
  {
   "cell_type": "code",
   "execution_count": null,
   "id": "33900650-7436-4053-80fb-cac9c4e6a5a4",
   "metadata": {},
   "outputs": [],
   "source": [
    "modelNegative.visualize_barchart()"
   ]
  },
  {
   "cell_type": "code",
   "execution_count": null,
   "id": "9aa71a03-9411-4846-9ccd-e5977436b1a7",
   "metadata": {},
   "outputs": [],
   "source": [
    "modelNegative.visualize_topics()"
   ]
  },
  {
   "cell_type": "code",
   "execution_count": null,
   "id": "0abc28ac-152a-4507-a001-8b3c11b65cd4",
   "metadata": {},
   "outputs": [],
   "source": [
    "modelNegative.visualize_heatmap()"
   ]
  },
  {
   "cell_type": "code",
   "execution_count": null,
   "id": "bb142da3-df08-4187-9231-292b2edd9e2f",
   "metadata": {},
   "outputs": [],
   "source": [
    "modelNegative.visualize_hierarchy(top_n_topics=20)"
   ]
  },
  {
   "cell_type": "markdown",
   "id": "05d2c90d-0bce-4cf0-8b22-eb8a527ee55c",
   "metadata": {
    "tags": []
   },
   "source": [
    "## Positive Rezensionen"
   ]
  },
  {
   "cell_type": "code",
   "execution_count": null,
   "id": "1bae0901-c2a2-45a3-a299-ff1aeed6c1dc",
   "metadata": {},
   "outputs": [],
   "source": [
    "modelPositive = BERTopic(language=\"german\", nr_topics=\"auto\")"
   ]
  },
  {
   "cell_type": "code",
   "execution_count": null,
   "id": "cff28e81-fefa-4245-b33b-091f010c4ee1",
   "metadata": {},
   "outputs": [],
   "source": [
    "topics, probabilities = modelPositive.fit_transform(reviewsPositiveText)"
   ]
  },
  {
   "cell_type": "code",
   "execution_count": null,
   "id": "deb52f78-3ff6-4996-a7b7-a303185f1c1d",
   "metadata": {},
   "outputs": [],
   "source": [
    "modelPositive.update_topics(reviewsPositiveText, topics, n_gram_range=(1, 2))"
   ]
  },
  {
   "cell_type": "code",
   "execution_count": null,
   "id": "f65043f9-51c1-4994-ad70-6570835eff44",
   "metadata": {},
   "outputs": [],
   "source": [
    "modelPositive.visualize_barchart()"
   ]
  },
  {
   "cell_type": "code",
   "execution_count": null,
   "id": "c335d7a6-526e-4520-bcb0-1690b6a78cfe",
   "metadata": {},
   "outputs": [],
   "source": [
    "modelPositive.visualize_hierarchy(top_n_topics=20)"
   ]
  }
 ],
 "metadata": {
  "kernelspec": {
   "display_name": "Python 3 (ipykernel)",
   "language": "python",
   "name": "python3"
  },
  "language_info": {
   "codemirror_mode": {
    "name": "ipython",
    "version": 3
   },
   "file_extension": ".py",
   "mimetype": "text/x-python",
   "name": "python",
   "nbconvert_exporter": "python",
   "pygments_lexer": "ipython3",
   "version": "3.7.6"
  }
 },
 "nbformat": 4,
 "nbformat_minor": 5
}
